{
 "cells": [
  {
   "cell_type": "code",
   "execution_count": 1,
   "metadata": {},
   "outputs": [
    {
     "ename": "ModuleNotFoundError",
     "evalue": "No module named 'keras'",
     "output_type": "error",
     "traceback": [
      "\u001b[0;31m---------------------------------------------------------------------------\u001b[0m",
      "\u001b[0;31mModuleNotFoundError\u001b[0m                       Traceback (most recent call last)",
      "\u001b[0;32m<ipython-input-1-3e4ec58dc647>\u001b[0m in \u001b[0;36m<module>\u001b[0;34m()\u001b[0m\n\u001b[1;32m     10\u001b[0m \"\"\"\n\u001b[1;32m     11\u001b[0m \u001b[0;34m\u001b[0m\u001b[0m\n\u001b[0;32m---> 12\u001b[0;31m \u001b[0;32mfrom\u001b[0m \u001b[0mkeras\u001b[0m\u001b[0;34m.\u001b[0m\u001b[0mlayers\u001b[0m \u001b[0;32mimport\u001b[0m \u001b[0mActivation\u001b[0m\u001b[0;34m,\u001b[0m \u001b[0mInput\u001b[0m\u001b[0;34m,\u001b[0m \u001b[0mDense\u001b[0m\u001b[0;34m,\u001b[0m \u001b[0mFlatten\u001b[0m\u001b[0;34m,\u001b[0m \u001b[0mDropout\u001b[0m\u001b[0;34m,\u001b[0m \u001b[0mEmbedding\u001b[0m\u001b[0;34m\u001b[0m\u001b[0m\n\u001b[0m\u001b[1;32m     13\u001b[0m \u001b[0;32mfrom\u001b[0m \u001b[0mkeras\u001b[0m\u001b[0;34m.\u001b[0m\u001b[0mlayers\u001b[0m\u001b[0;34m.\u001b[0m\u001b[0mconvolutional\u001b[0m \u001b[0;32mimport\u001b[0m \u001b[0mConv1D\u001b[0m\u001b[0;34m,\u001b[0m \u001b[0mMaxPooling1D\u001b[0m\u001b[0;34m\u001b[0m\u001b[0m\n\u001b[1;32m     14\u001b[0m \u001b[0;32mfrom\u001b[0m \u001b[0mkeras\u001b[0m\u001b[0;34m.\u001b[0m\u001b[0mlayers\u001b[0m\u001b[0;34m.\u001b[0m\u001b[0mmerge\u001b[0m \u001b[0;32mimport\u001b[0m \u001b[0mconcatenate\u001b[0m\u001b[0;34m\u001b[0m\u001b[0m\n",
      "\u001b[0;31mModuleNotFoundError\u001b[0m: No module named 'keras'"
     ]
    }
   ],
   "source": [
    "# %load CNN_model.py\n",
    "\"\"\"\n",
    "CNN model for text classification\n",
    "This implementation is based on the original paper of Yoon Kim [1].\n",
    "\n",
    "# References\n",
    "- [1] [Convolutional Neural Networks for Sentence Classification](https://arxiv.org/abs/1408.5882)\n",
    "\n",
    "@author: Christopher Masch\n",
    "\"\"\"\n",
    "\n",
    "from keras.layers import Activation, Input, Dense, Flatten, Dropout, Embedding\n",
    "from keras.layers.convolutional import Conv1D, MaxPooling1D\n",
    "from keras.layers.merge import concatenate\n",
    "from keras import regularizers\n",
    "from keras.models import Model\n",
    "\n",
    "__version__ = '0.0.1'\n",
    "\n",
    "def build_cnn(embedding_layer=None, num_words=None,\n",
    "              embedding_dim=None, filter_sizes=[3,4,5],\n",
    "              feature_maps=[100,100,100], max_seq_length=100, dropout_rate=None):\n",
    "    \"\"\"\n",
    "    Building a CNN for text classification\n",
    "    \n",
    "    Arguments:\n",
    "        embedding_layer : If not defined with pre-trained embeddings it will be created from scratch\n",
    "        num_words       : Maximal amount of words in the vocabulary\n",
    "        embedding_dim   : Dimension of word representation\n",
    "        filter_sizes    : An array of filter sizes per channel\n",
    "        feature_maps    : Defines the feature maps per channel\n",
    "        max_seq_length  : Max length of sequence\n",
    "        dropout_rate    : If defined, dropout will be added after embedding layer & concatenation\n",
    "        \n",
    "    Returns:\n",
    "        Model           : Keras model instance\n",
    "    \"\"\"\n",
    "    \n",
    "    # Checks\n",
    "    if len(filter_sizes)!=len(feature_maps):\n",
    "        raise Exception('Please define `filter_sizes` and `feature_maps` with the same length.')\n",
    "    if not embedding_layer and (not num_words or not embedding_dim):\n",
    "        raise Exception('Please define `num_words` and `embedding_dim` if you not use a pre-trained embedding')\n",
    "    \n",
    "    print('Creating CNN %s' % __version__)\n",
    "    print('#############################################')\n",
    "    print('Embedding:    %s pre-trained embedding' % ('using' if embedding_layer else 'no'))\n",
    "    print('Vocabulary size: %s' % num_words)\n",
    "    print('Embedding dim: %s' % embedding_dim)\n",
    "    print('Filter sizes: %s' % filter_sizes)\n",
    "    print('Feature maps: %s' % feature_maps)\n",
    "    print('Max sequence: %i' % max_seq_length)\n",
    "    print('#############################################')  \n",
    "    \n",
    "    if embedding_layer is None:\n",
    "        embedding_layer = Embedding(input_dim=num_words, output_dim=embedding_dim,\n",
    "                                    input_length=max_seq_length,\n",
    "                                    weights=None,\n",
    "                                    trainable=True\n",
    "                                   )\n",
    "    \n",
    "    channels = []\n",
    "    x_in = Input(shape=(max_seq_length,), dtype='int32')\n",
    "    emb_layer = embedding_layer(x_in)\n",
    "    if dropout_rate:\n",
    "        emb_layer  = Dropout(dropout_rate)(emb_layer)\n",
    "    for ix in range(len(filter_sizes)):\n",
    "        x = create_channel(emb_layer, filter_sizes[ix], feature_maps[ix])\n",
    "        channels.append(x)\n",
    "    \n",
    "    # Concatenate all channels\n",
    "    x = concatenate(channels)\n",
    "    if dropout_rate:\n",
    "        x = Dropout(dropout_rate)(x)\n",
    "    x = Activation('relu')(x)\n",
    "    x = Dense(1, activation='sigmoid')(x)\n",
    "    \n",
    "    return Model(inputs=x_in, outputs=x)\n",
    "    \n",
    "def create_channel(x, filter_size, feature_map):\n",
    "    \"\"\"\n",
    "    Creates a layer working channel wise\n",
    "    \"\"\"\n",
    "    x = Conv1D(feature_map, kernel_size=filter_size, activation='relu', strides=1,\n",
    "               padding='same', kernel_regularizer=regularizers.l2(0.03))(x)\n",
    "    x = MaxPooling1D(pool_size=2, strides=1, padding='valid')(x)\n",
    "    x = Flatten()(x)\n",
    "    return x\n"
   ]
  },
  {
   "cell_type": "code",
   "execution_count": null,
   "metadata": {
    "collapsed": true
   },
   "outputs": [],
   "source": []
  },
  {
   "cell_type": "code",
   "execution_count": null,
   "metadata": {
    "collapsed": true
   },
   "outputs": [],
   "source": []
  }
 ],
 "metadata": {
  "kernelspec": {
   "display_name": "Python 3",
   "language": "python",
   "name": "python3"
  },
  "language_info": {
   "codemirror_mode": {
    "name": "ipython",
    "version": 3
   },
   "file_extension": ".py",
   "mimetype": "text/x-python",
   "name": "python",
   "nbconvert_exporter": "python",
   "pygments_lexer": "ipython3",
   "version": "3.6.5"
  }
 },
 "nbformat": 4,
 "nbformat_minor": 2
}
