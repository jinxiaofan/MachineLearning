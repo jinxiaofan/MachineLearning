{
 "cells": [
  {
   "cell_type": "markdown",
   "metadata": {},
   "source": [
    "### Loading Jupyter notification extension for Chrome\n",
    "\n",
    "Please refer:\n",
    "https://github.com/ShopRunner/jupyter-notify"
   ]
  },
  {
   "cell_type": "code",
   "execution_count": 11,
   "metadata": {},
   "outputs": [
    {
     "data": {
      "application/javascript": [
       "if (!(\"Notification\" in window)) {\n",
       "    alert(\"This browser does not support desktop notifications, so the %%notify magic will not work.\");\n",
       "} else if (Notification.permission !== 'granted' && Notification.permission !== 'denied') {\n",
       "    Notification.requestPermission(function (permission) {\n",
       "        if(!('permission' in Notification)) {\n",
       "            Notification.permission = permission;\n",
       "        }\n",
       "    })\n",
       "}\n"
      ],
      "text/plain": [
       "<IPython.core.display.Javascript object>"
      ]
     },
     "metadata": {},
     "output_type": "display_data"
    },
    {
     "data": {
      "application/javascript": [
       "$(document).ready(\n",
       "    function() {\n",
       "        function appendUniqueDiv(){\n",
       "            // append a div with our uuid so we can check that it's already\n",
       "            // been sent and avoid duplicates on page reload\n",
       "            var notifiedDiv = document.createElement(\"div\")\n",
       "            notifiedDiv.id = \"7530bb39-c9f9-491b-9038-557c0b546f13\"\n",
       "            element.append(notifiedDiv)\n",
       "        }\n",
       "\n",
       "        // only send notifications if the pageload is complete; this will\n",
       "        // help stop extra notifications when a saved notebook is loaded,\n",
       "        // which during testing gives us state \"interactive\", not \"complete\"\n",
       "        if (document.readyState === 'complete') {\n",
       "            // check for the div that signifies that the notification\n",
       "            // was already sent\n",
       "            if (document.getElementById(\"7530bb39-c9f9-491b-9038-557c0b546f13\") === null) {\n",
       "                var notificationPayload = {\"requireInteraction\": false, \"icon\": \"/static/base/images/favicon.ico\", \"body\": \"loaded jupyternotify\"};\n",
       "                if (Notification.permission !== 'denied') {\n",
       "                    if (Notification.permission !== 'granted') { \n",
       "                        Notification.requestPermission(function (permission) {\n",
       "                            if(!('permission' in Notification)) {\n",
       "                                Notification.permission = permission\n",
       "                            }\n",
       "                        })\n",
       "                    }\n",
       "                    if (Notification.permission === 'granted') {\n",
       "                    var notification = new Notification(\"Jupyter Notebook\", notificationPayload)\n",
       "                    appendUniqueDiv()\n",
       "                    notification.onclick = function () {\n",
       "                        window.focus();\n",
       "                        this.close();\n",
       "                        };\n",
       "                    } \n",
       "                }     \n",
       "            }\n",
       "        }\n",
       "    }\n",
       ")\n"
      ],
      "text/plain": [
       "<IPython.core.display.Javascript object>"
      ]
     },
     "metadata": {},
     "output_type": "display_data"
    }
   ],
   "source": [
    "%load_ext jupyternotify\n",
    "\n",
    "%notify -m \"loaded jupyternotify\""
   ]
  },
  {
   "cell_type": "markdown",
   "metadata": {},
   "source": [
    "# Final Project"
   ]
  },
  {
   "cell_type": "markdown",
   "metadata": {},
   "source": [
    "## Dependencies\n",
    "* NLTK\n",
    "* Tensorflow\n",
    "* keras\n",
    "* h5py\n",
    "* Seaborn\n",
    "* Sklearn\n",
    "* matplotlib\n",
    "* pandas\n",
    "* numpy"
   ]
  },
  {
   "cell_type": "code",
   "execution_count": 1,
   "metadata": {},
   "outputs": [],
   "source": [
    "import string, re, pickle\n",
    "import pandas as pd\n",
    "import urllib\n",
    "import matplotlib.pyplot as plt\n",
    "import numpy as np\n",
    "import seaborn as sns\n",
    "color = sns.color_palette()\n",
    "\n",
    "from nltk.corpus import stopwords\n",
    "from sklearn.pipeline import Pipeline\n",
    "from sklearn.feature_extraction.text import CountVectorizer\n",
    "from sklearn.feature_extraction.text import TfidfTransformer\n",
    "from sklearn.linear_model import LogisticRegression\n",
    "from sklearn.naive_bayes import MultinomialNB\n",
    "from sklearn.ensemble import RandomForestClassifier\n",
    "from sklearn.svm import LinearSVC\n",
    "from sklearn.neural_network import MLPClassifier\n",
    "from sklearn.metrics import roc_auc_score, roc_curve, auc, log_loss\n",
    "from sklearn.preprocessing import StandardScaler"
   ]
  },
  {
   "cell_type": "markdown",
   "metadata": {},
   "source": [
    "## Preparing Dataset\n",
    "### downloading dataset method 1"
   ]
  },
  {
   "cell_type": "code",
   "execution_count": 6,
   "metadata": {},
   "outputs": [
    {
     "ename": "FileNotFoundError",
     "evalue": "[Errno 2] No such file or directory: 'dataset/attack_annotated_comments.tsv'",
     "output_type": "error",
     "traceback": [
      "\u001b[0;31m---------------------------------------------------------------------------\u001b[0m",
      "\u001b[0;31mFileNotFoundError\u001b[0m                         Traceback (most recent call last)",
      "\u001b[0;32m<ipython-input-6-640d0bc5587a>\u001b[0m in \u001b[0;36m<module>\u001b[0;34m()\u001b[0m\n\u001b[1;32m      8\u001b[0m \u001b[0mANNOTATIONS\u001b[0m \u001b[0;34m=\u001b[0m \u001b[0mrequests\u001b[0m\u001b[0;34m.\u001b[0m\u001b[0mget\u001b[0m\u001b[0;34m(\u001b[0m\u001b[0mANNOTATIONS_URL\u001b[0m\u001b[0;34m,\u001b[0m \u001b[0mallow_redirects\u001b[0m\u001b[0;34m=\u001b[0m\u001b[0;32mTrue\u001b[0m\u001b[0;34m)\u001b[0m\u001b[0;34m\u001b[0m\u001b[0m\n\u001b[1;32m      9\u001b[0m \u001b[0;34m\u001b[0m\u001b[0m\n\u001b[0;32m---> 10\u001b[0;31m \u001b[0mopen\u001b[0m\u001b[0;34m(\u001b[0m\u001b[0;34m'dataset/attack_annotated_comments.tsv'\u001b[0m\u001b[0;34m,\u001b[0m \u001b[0;34m'wb'\u001b[0m\u001b[0;34m)\u001b[0m\u001b[0;34m.\u001b[0m\u001b[0mwrite\u001b[0m\u001b[0;34m(\u001b[0m\u001b[0mANNOTATED_COMMENTS\u001b[0m\u001b[0;34m.\u001b[0m\u001b[0mcontent\u001b[0m\u001b[0;34m)\u001b[0m\u001b[0;34m\u001b[0m\u001b[0m\n\u001b[0m\u001b[1;32m     11\u001b[0m \u001b[0mopen\u001b[0m\u001b[0;34m(\u001b[0m\u001b[0;34m'dataset/attack_annotations.tsv'\u001b[0m\u001b[0;34m,\u001b[0m \u001b[0;34m'wb'\u001b[0m\u001b[0;34m)\u001b[0m\u001b[0;34m.\u001b[0m\u001b[0mwrite\u001b[0m\u001b[0;34m(\u001b[0m\u001b[0mANNOTATIONS\u001b[0m\u001b[0;34m.\u001b[0m\u001b[0mcontent\u001b[0m\u001b[0;34m)\u001b[0m\u001b[0;34m\u001b[0m\u001b[0m\n",
      "\u001b[0;31mFileNotFoundError\u001b[0m: [Errno 2] No such file or directory: 'dataset/attack_annotated_comments.tsv'"
     ]
    }
   ],
   "source": [
    "# download annotated comments and annotations\n",
    "import requests\n",
    "\n",
    "ANNOTATED_COMMENTS_URL = 'https://ndownloader.figshare.com/files/7554634' \n",
    "ANNOTATIONS_URL = 'https://ndownloader.figshare.com/files/7554637' \n",
    "\n",
    "ANNOTATED_COMMENTS = requests.get(ANNOTATED_COMMENTS_URL, allow_redirects=True)\n",
    "ANNOTATIONS = requests.get(ANNOTATIONS_URL, allow_redirects=True)\n",
    "\n",
    "open('dataset/attack_annotated_comments.tsv', 'wb').write(ANNOTATED_COMMENTS.content)\n",
    "open('dataset/attack_annotations.tsv', 'wb').write(ANNOTATIONS.content)"
   ]
  },
  {
   "cell_type": "markdown",
   "metadata": {},
   "source": [
    "### downloading dataset method 2"
   ]
  },
  {
   "cell_type": "code",
   "execution_count": 7,
   "metadata": {},
   "outputs": [],
   "source": [
    "# download annotated comments and annotations\n",
    "\n",
    "ANNOTATED_COMMENTS_URL = 'https://ndownloader.figshare.com/files/7554634' \n",
    "ANNOTATIONS_URL = 'https://ndownloader.figshare.com/files/7554637' \n",
    "\n",
    "\n",
    "def download_file(url, fname):\n",
    "    urllib.request.urlretrieve(url, fname)\n",
    "\n",
    "                \n",
    "download_file(ANNOTATED_COMMENTS_URL, 'attack_annotated_comments.tsv')\n",
    "download_file(ANNOTATIONS_URL, 'attack_annotations.tsv')"
   ]
  },
  {
   "cell_type": "code",
   "execution_count": 2,
   "metadata": {},
   "outputs": [],
   "source": [
    "comments = pd.read_csv('attack_annotated_comments.tsv', sep = '\\t', index_col = 0)\n",
    "annotations = pd.read_csv('attack_annotations.tsv',  sep = '\\t')"
   ]
  },
  {
   "cell_type": "code",
   "execution_count": 3,
   "metadata": {},
   "outputs": [
    {
     "data": {
      "text/plain": [
       "115864"
      ]
     },
     "execution_count": 3,
     "metadata": {},
     "output_type": "execute_result"
    }
   ],
   "source": [
    "len(annotations['rev_id'].unique())"
   ]
  },
  {
   "cell_type": "code",
   "execution_count": 4,
   "metadata": {},
   "outputs": [],
   "source": [
    "# labels a comment as an atack if the majority of annoatators did so\n",
    "labels = annotations.groupby('rev_id')['attack'].mean() > 0.5\n",
    "\n",
    "# labels = annotations.groupby('rev_id')['attack'].mean() > 0.6"
   ]
  },
  {
   "cell_type": "code",
   "execution_count": 5,
   "metadata": {},
   "outputs": [],
   "source": [
    "# join labels and comments\n",
    "comments['attack'] = labels"
   ]
  },
  {
   "cell_type": "markdown",
   "metadata": {},
   "source": [
    "### Text Preprocessing "
   ]
  },
  {
   "cell_type": "code",
   "execution_count": 11,
   "metadata": {
    "collapsed": true
   },
   "outputs": [],
   "source": [
    "stop_words = set(stopwords.words('english'))"
   ]
  },
  {
   "cell_type": "code",
   "execution_count": 12,
   "metadata": {
    "collapsed": true
   },
   "outputs": [],
   "source": [
    "# remove newline and tab tokens\n",
    "comments['comment'] = comments['comment'].apply(lambda x: x.replace(\"NEWLINE_TOKEN\", \" \"))\n",
    "comments['comment'] = comments['comment'].apply(lambda x: x.replace(\"TAB_TOKEN\", \" \"))\n",
    "\n",
    "# Remove numbers\n",
    "comments['comment'] = comments['comment'].apply(lambda x: re.sub(r\"[0-9]+\", \"\", x))\n",
    "# lower case\n",
    "comments['comment'] = comments['comment'].apply(lambda x: x.lower())\n",
    "# remove all punctuation\n",
    "comments['comment'] = comments['comment'].apply(lambda x: x.replace(string.punctuation, \" \"))\n",
    "# # remove english stop words\n",
    "new_comment = []\n",
    "for index, row in comments.iterrows():\n",
    "    words = [w for w in row['comment'].split() if not w in stop_words]\n",
    "    new_comment.append(' '.join(words))\n",
    "comments['comment'] = new_comment\n",
    "\n",
    "comments = comments.replace(np.nan, '', regex=True)\n",
    "# Removing multiple whitespaces\n",
    "comments['comment'] = comments['comment'].apply(lambda x: re.sub(r\"\\?\", \" \\? \", x))"
   ]
  },
  {
   "cell_type": "code",
   "execution_count": 13,
   "metadata": {
    "collapsed": true
   },
   "outputs": [],
   "source": [
    "with open('dataset/clearn_up_comments.pickle', 'wb') as f:\n",
    "    pickle.dump(comments, f)"
   ]
  },
  {
   "cell_type": "code",
   "execution_count": 14,
   "metadata": {
    "collapsed": true
   },
   "outputs": [],
   "source": [
    "with open('dataset/clearn_up_comments.pickle', 'rb') as f:\n",
    "    comments = pickle.load(f)"
   ]
  },
  {
   "cell_type": "code",
   "execution_count": 29,
   "metadata": {},
   "outputs": [
    {
     "data": {
      "text/plain": [
       "comment      115864\n",
       "year         115864\n",
       "logged_in    115864\n",
       "ns           115864\n",
       "sample       115864\n",
       "split        115864\n",
       "attack       115864\n",
       "dtype: int64"
      ]
     },
     "execution_count": 29,
     "metadata": {},
     "output_type": "execute_result"
    }
   ],
   "source": [
    "comments.count()"
   ]
  },
  {
   "cell_type": "code",
   "execution_count": 15,
   "metadata": {},
   "outputs": [
    {
     "data": {
      "text/html": [
       "<div>\n",
       "<style scoped>\n",
       "    .dataframe tbody tr th:only-of-type {\n",
       "        vertical-align: middle;\n",
       "    }\n",
       "\n",
       "    .dataframe tbody tr th {\n",
       "        vertical-align: top;\n",
       "    }\n",
       "\n",
       "    .dataframe thead th {\n",
       "        text-align: right;\n",
       "    }\n",
       "</style>\n",
       "<table border=\"1\" class=\"dataframe\">\n",
       "  <thead>\n",
       "    <tr style=\"text-align: right;\">\n",
       "      <th></th>\n",
       "      <th>comment</th>\n",
       "      <th>year</th>\n",
       "      <th>logged_in</th>\n",
       "      <th>ns</th>\n",
       "      <th>sample</th>\n",
       "      <th>split</th>\n",
       "      <th>attack</th>\n",
       "    </tr>\n",
       "    <tr>\n",
       "      <th>rev_id</th>\n",
       "      <th></th>\n",
       "      <th></th>\n",
       "      <th></th>\n",
       "      <th></th>\n",
       "      <th></th>\n",
       "      <th></th>\n",
       "      <th></th>\n",
       "    </tr>\n",
       "  </thead>\n",
       "  <tbody>\n",
       "    <tr>\n",
       "      <th>189882400</th>\n",
       "      <td>:::::everyone, let's try make things complicat...</td>\n",
       "      <td>2008</td>\n",
       "      <td>True</td>\n",
       "      <td>article</td>\n",
       "      <td>blocked</td>\n",
       "      <td>train</td>\n",
       "      <td>False</td>\n",
       "    </tr>\n",
       "    <tr>\n",
       "      <th>41456811</th>\n",
       "      <td>`the mclaglen article says fight ``no contest`...</td>\n",
       "      <td>2006</td>\n",
       "      <td>True</td>\n",
       "      <td>article</td>\n",
       "      <td>random</td>\n",
       "      <td>test</td>\n",
       "      <td>False</td>\n",
       "    </tr>\n",
       "    <tr>\n",
       "      <th>560942753</th>\n",
       "      <td>partner together years waiting happen. really ...</td>\n",
       "      <td>2013</td>\n",
       "      <td>False</td>\n",
       "      <td>article</td>\n",
       "      <td>blocked</td>\n",
       "      <td>train</td>\n",
       "      <td>False</td>\n",
       "    </tr>\n",
       "  </tbody>\n",
       "</table>\n",
       "</div>"
      ],
      "text/plain": [
       "                                                     comment  year  logged_in  \\\n",
       "rev_id                                                                          \n",
       "189882400  :::::everyone, let's try make things complicat...  2008       True   \n",
       "41456811   `the mclaglen article says fight ``no contest`...  2006       True   \n",
       "560942753  partner together years waiting happen. really ...  2013      False   \n",
       "\n",
       "                ns   sample  split  attack  \n",
       "rev_id                                      \n",
       "189882400  article  blocked  train   False  \n",
       "41456811   article   random   test   False  \n",
       "560942753  article  blocked  train   False  "
      ]
     },
     "execution_count": 15,
     "metadata": {},
     "output_type": "execute_result"
    }
   ],
   "source": [
    "comments.sample(3)"
   ]
  },
  {
   "cell_type": "code",
   "execution_count": 31,
   "metadata": {},
   "outputs": [
    {
     "data": {
      "text/plain": [
       "13590"
      ]
     },
     "execution_count": 31,
     "metadata": {},
     "output_type": "execute_result"
    }
   ],
   "source": [
    "# query with boolean expression\n",
    "comments.query('attack')['logged_in'].count()"
   ]
  },
  {
   "cell_type": "code",
   "execution_count": 32,
   "metadata": {},
   "outputs": [
    {
     "name": "stdout",
     "output_type": "stream",
     "text": [
      "comment      30946\n",
      "year         30946\n",
      "logged_in    30946\n",
      "ns           30946\n",
      "sample       30946\n",
      "split        30946\n",
      "attack       30946\n",
      "dtype: int64\n",
      "comment      13590\n",
      "year         13590\n",
      "logged_in    13590\n",
      "ns           13590\n",
      "sample       13590\n",
      "split        13590\n",
      "attack       13590\n",
      "dtype: int64\n"
     ]
    }
   ],
   "source": [
    "logout = comments[comments.logged_in == False]\n",
    "print(logout.count())\n",
    "out_a = comments[comments.attack == True]\n",
    "print(out_a.count())"
   ]
  },
  {
   "cell_type": "code",
   "execution_count": 33,
   "metadata": {},
   "outputs": [
    {
     "name": "stderr",
     "output_type": "stream",
     "text": [
      "/Users/liangpengzhuang/anaconda3/lib/python3.6/site-packages/seaborn/categorical.py:1460: FutureWarning: remove_na is deprecated and is a private function. Do not use.\n",
      "  stat_data = remove_na(group_data)\n"
     ]
    },
    {
     "data": {
      "image/png": "[encoded data removed]",
      "text/plain": [
       "<matplotlib.figure.Figure at 0x11ae0cb00>"
      ]
     },
     "metadata": {},
     "output_type": "display_data"
    }
   ],
   "source": [
    "attack_level = comments['attack'].value_counts()\n",
    "plt.figure(figsize=(8,4))\n",
    "sns.barplot(attack_level.index, attack_level.values, alpha=0.8, color=color[0])\n",
    "plt.ylabel('Number of Occurrences', fontsize=12)\n",
    "plt.xlabel('Attack', fontsize=12)\n",
    "plt.show()"
   ]
  },
  {
   "cell_type": "code",
   "execution_count": 34,
   "metadata": {},
   "outputs": [
    {
     "name": "stderr",
     "output_type": "stream",
     "text": [
      "/Users/liangpengzhuang/anaconda3/lib/python3.6/site-packages/seaborn/categorical.py:1460: FutureWarning: remove_na is deprecated and is a private function. Do not use.\n",
      "  stat_data = remove_na(group_data)\n"
     ]
    },
    {
     "data": {
      "image/png": "[encoded data removed]",
      "text/plain": [
       "<matplotlib.figure.Figure at 0x11adf8080>"
      ]
     },
     "metadata": {},
     "output_type": "display_data"
    }
   ],
   "source": [
    "years = comments.query('attack').groupby('year').count()\n",
    "years = years.attack\n",
    "plt.figure(figsize=(50,10))\n",
    "sns.barplot(years.index, years.values, alpha=0.8, color=color[0])\n",
    "plt.ylabel('Number of attacks', fontsize=12)\n",
    "plt.xlabel('Years', fontsize=12)\n",
    "plt.show()"
   ]
  },
  {
   "cell_type": "markdown",
   "metadata": {},
   "source": [
    "## Train and Test Var\n",
    "### Splits data into train, dev and tes"
   ]
  },
  {
   "cell_type": "code",
   "execution_count": 13,
   "metadata": {},
   "outputs": [],
   "source": [
    "train_comments = comments.query(\"split=='train'\")\n",
    "dev_comments = comments.query(\"split=='dev'\")\n",
    "test_comments = comments.query(\"split=='test'\")"
   ]
  },
  {
   "cell_type": "code",
   "execution_count": 14,
   "metadata": {},
   "outputs": [],
   "source": [
    "# get rid of rev_id, year, logged_in, ns, sample column that will not be used in training\n",
    "# only keep comments as training feature\n",
    "def get_X_Y(data):\n",
    "    X = data.comment\n",
    "    Y = data.iloc[:, -1]\n",
    "    return X, Y"
   ]
  },
  {
   "cell_type": "markdown",
   "metadata": {},
   "source": [
    "### Prepare input and output vectors with corresbonding label"
   ]
  },
  {
   "cell_type": "code",
   "execution_count": 15,
   "metadata": {},
   "outputs": [],
   "source": [
    "X_train, Y_train = get_X_Y(train_comments)\n",
    "X_dev, Y_dev = get_X_Y(dev_comments)\n",
    "X_test, Y_test = get_X_Y(test_comments)"
   ]
  },
  {
   "cell_type": "code",
   "execution_count": 10,
   "metadata": {},
   "outputs": [
    {
     "data": {
      "text/plain": [
       "rev_id\n",
       "120378457    `NEWLINE_TOKENNEWLINE_TOKEN==Question==NEWLINE...\n",
       "392551253    Daedalus is nothing but a filthy n!gger and a ...\n",
       "270408448     look at joke pages relating to some random gu...\n",
       "148443232    Just read the article, you will feel bad for b...\n",
       "128368217    NEWLINE_TOKENNEWLINE_TOKENFUCK YOUR LIFE BITCH...\n",
       "355693500    `NEWLINE_TOKENNEWLINE_TOKEN::::Hi,um, This is ...\n",
       "172669718    NEWLINE_TOKENNEWLINE_TOKENyou gay motherfucker...\n",
       "160733726    `NEWLINE_TOKENNEWLINE_TOKENThis not being fair...\n",
       "149621805    NEWLINE_TOKENNEWLINE_TOKEN:: The criticism fro...\n",
       "288272932    NEWLINE_TOKENNEWLINE_TOKEN== Whitehead group n...\n",
       "Name: comment, dtype: object"
      ]
     },
     "execution_count": 10,
     "metadata": {},
     "output_type": "execute_result"
    }
   ],
   "source": [
    "X_train.sample(10)"
   ]
  },
  {
   "cell_type": "markdown",
   "metadata": {},
   "source": [
    "## LogisticRegression"
   ]
  },
  {
   "cell_type": "code",
   "execution_count": 19,
   "metadata": {},
   "outputs": [
    {
     "name": "stdout",
     "output_type": "stream",
     "text": [
      "Test ROC AUC: 0.965\n"
     ]
    }
   ],
   "source": [
    "# fit a simple text classifier\n",
    "clf = Pipeline([\n",
    "    ('vect', CountVectorizer(max_features = 10000, ngram_range = (1,2))),\n",
    "    ('tfidf', TfidfTransformer(norm = 'l2')),\n",
    "    ('clf', LogisticRegression()),\n",
    "])\n",
    "clf = clf.fit(train_comments['comment'], train_comments['attack'])\n",
    "auc = roc_auc_score(test_comments['attack'], clf.predict_proba(test_comments['comment'])[:, 1])\n",
    "print('Test ROC AUC: %.3f' %auc)"
   ]
  },
  {
   "cell_type": "code",
   "execution_count": 40,
   "metadata": {
    "collapsed": true
   },
   "outputs": [],
   "source": [
    "# clf.get_params()"
   ]
  },
  {
   "cell_type": "markdown",
   "metadata": {},
   "source": [
    "## MultinomialNB"
   ]
  },
  {
   "cell_type": "code",
   "execution_count": 41,
   "metadata": {},
   "outputs": [
    {
     "name": "stdout",
     "output_type": "stream",
     "text": [
      "Test ROC AUC: 0.937\n"
     ]
    }
   ],
   "source": [
    "clf = Pipeline([\n",
    "    ('vect', CountVectorizer(max_features = 10000, ngram_range = (1,2))),\n",
    "    ('tfidf', TfidfTransformer(norm = 'l2')),\n",
    "    ('clf', MultinomialNB()),\n",
    "])\n",
    "clf = clf.fit(train_comments['comment'], train_comments['attack'])\n",
    "auc = roc_auc_score(test_comments['attack'], clf.predict_proba(test_comments['comment'])[:, 1])\n",
    "print('Test ROC AUC: %.3f' %auc)"
   ]
  },
  {
   "cell_type": "markdown",
   "metadata": {},
   "source": [
    "##  RandomForestClassifier"
   ]
  },
  {
   "cell_type": "code",
   "execution_count": 42,
   "metadata": {},
   "outputs": [
    {
     "name": "stdout",
     "output_type": "stream",
     "text": [
      "Test ROC AUC: 0.912\n"
     ]
    }
   ],
   "source": [
    "clf = Pipeline([\n",
    "    ('vect', CountVectorizer(max_features = 10000, ngram_range = (1,2))),\n",
    "    ('tfidf', TfidfTransformer(norm = 'l2')),\n",
    "    ('clf', RandomForestClassifier()),\n",
    "])\n",
    "clf = clf.fit(train_comments['comment'], train_comments['attack'])\n",
    "auc = roc_auc_score(test_comments['attack'], clf.predict_proba(test_comments['comment'])[:, 1])\n",
    "print('Test ROC AUC: %.3f' %auc)"
   ]
  },
  {
   "cell_type": "markdown",
   "metadata": {},
   "source": [
    "##  SVC"
   ]
  },
  {
   "cell_type": "code",
   "execution_count": 43,
   "metadata": {},
   "outputs": [
    {
     "ename": "AttributeError",
     "evalue": "'LinearSVC' object has no attribute 'predict_proba'",
     "output_type": "error",
     "traceback": [
      "\u001b[0;31m---------------------------------------------------------------------------\u001b[0m",
      "\u001b[0;31mAttributeError\u001b[0m                            Traceback (most recent call last)",
      "\u001b[0;32m<ipython-input-43-b60304278512>\u001b[0m in \u001b[0;36m<module>\u001b[0;34m()\u001b[0m\n\u001b[1;32m      5\u001b[0m ])\n\u001b[1;32m      6\u001b[0m \u001b[0mclf\u001b[0m \u001b[0;34m=\u001b[0m \u001b[0mclf\u001b[0m\u001b[0;34m.\u001b[0m\u001b[0mfit\u001b[0m\u001b[0;34m(\u001b[0m\u001b[0mtrain_comments\u001b[0m\u001b[0;34m[\u001b[0m\u001b[0;34m'comment'\u001b[0m\u001b[0;34m]\u001b[0m\u001b[0;34m,\u001b[0m \u001b[0mtrain_comments\u001b[0m\u001b[0;34m[\u001b[0m\u001b[0;34m'attack'\u001b[0m\u001b[0;34m]\u001b[0m\u001b[0;34m)\u001b[0m\u001b[0;34m\u001b[0m\u001b[0m\n\u001b[0;32m----> 7\u001b[0;31m \u001b[0mauc\u001b[0m \u001b[0;34m=\u001b[0m \u001b[0mroc_auc_score\u001b[0m\u001b[0;34m(\u001b[0m\u001b[0mtest_comments\u001b[0m\u001b[0;34m[\u001b[0m\u001b[0;34m'attack'\u001b[0m\u001b[0;34m]\u001b[0m\u001b[0;34m,\u001b[0m \u001b[0mclf\u001b[0m\u001b[0;34m.\u001b[0m\u001b[0mpredict_proba\u001b[0m\u001b[0;34m(\u001b[0m\u001b[0mtest_comments\u001b[0m\u001b[0;34m[\u001b[0m\u001b[0;34m'comment'\u001b[0m\u001b[0;34m]\u001b[0m\u001b[0;34m)\u001b[0m\u001b[0;34m[\u001b[0m\u001b[0;34m:\u001b[0m\u001b[0;34m,\u001b[0m \u001b[0;36m1\u001b[0m\u001b[0;34m]\u001b[0m\u001b[0;34m)\u001b[0m\u001b[0;34m\u001b[0m\u001b[0m\n\u001b[0m\u001b[1;32m      8\u001b[0m \u001b[0mprint\u001b[0m\u001b[0;34m(\u001b[0m\u001b[0;34m'Test ROC AUC: %.3f'\u001b[0m \u001b[0;34m%\u001b[0m\u001b[0mauc\u001b[0m\u001b[0;34m)\u001b[0m\u001b[0;34m\u001b[0m\u001b[0m\n",
      "\u001b[0;32m~/anaconda3/lib/python3.6/site-packages/sklearn/utils/metaestimators.py\u001b[0m in \u001b[0;36m__get__\u001b[0;34m(self, obj, type)\u001b[0m\n\u001b[1;32m    107\u001b[0m                     \u001b[0;32mcontinue\u001b[0m\u001b[0;34m\u001b[0m\u001b[0m\n\u001b[1;32m    108\u001b[0m                 \u001b[0;32melse\u001b[0m\u001b[0;34m:\u001b[0m\u001b[0;34m\u001b[0m\u001b[0m\n\u001b[0;32m--> 109\u001b[0;31m                     \u001b[0mgetattr\u001b[0m\u001b[0;34m(\u001b[0m\u001b[0mdelegate\u001b[0m\u001b[0;34m,\u001b[0m \u001b[0mself\u001b[0m\u001b[0;34m.\u001b[0m\u001b[0mattribute_name\u001b[0m\u001b[0;34m)\u001b[0m\u001b[0;34m\u001b[0m\u001b[0m\n\u001b[0m\u001b[1;32m    110\u001b[0m                     \u001b[0;32mbreak\u001b[0m\u001b[0;34m\u001b[0m\u001b[0m\n\u001b[1;32m    111\u001b[0m             \u001b[0;32melse\u001b[0m\u001b[0;34m:\u001b[0m\u001b[0;34m\u001b[0m\u001b[0m\n",
      "\u001b[0;31mAttributeError\u001b[0m: 'LinearSVC' object has no attribute 'predict_proba'"
     ]
    }
   ],
   "source": [
    "clf = Pipeline([\n",
    "    ('vect', CountVectorizer(max_features = 10000, ngram_range = (1,2))),\n",
    "    ('tfidf', TfidfTransformer(norm = 'l2')),\n",
    "    ('clf', LinearSVC()),\n",
    "])\n",
    "clf = clf.fit(train_comments['comment'], train_comments['attack'])\n",
    "auc = roc_auc_score(test_comments['attack'], clf.predict_proba(test_comments['comment'])[:, 1])\n",
    "print('Test ROC AUC: %.3f' %auc)"
   ]
  },
  {
   "cell_type": "code",
   "execution_count": null,
   "metadata": {
    "collapsed": true
   },
   "outputs": [],
   "source": [
    "# train_comments[:3]\n",
    "test_comments[:3]"
   ]
  },
  {
   "cell_type": "markdown",
   "metadata": {},
   "source": [
    "## MLPClassifier"
   ]
  },
  {
   "cell_type": "code",
   "execution_count": 44,
   "metadata": {},
   "outputs": [
    {
     "name": "stderr",
     "output_type": "stream",
     "text": [
      "/Users/liangpengzhuang/anaconda3/lib/python3.6/site-packages/sklearn/neural_network/multilayer_perceptron.py:566: UserWarning: Training interrupted by user.\n",
      "  warnings.warn(\"Training interrupted by user.\")\n"
     ]
    },
    {
     "name": "stdout",
     "output_type": "stream",
     "text": [
      "Test ROC AUC: 0.866\n"
     ]
    }
   ],
   "source": [
    "clf = Pipeline([\n",
    "    ('vect', CountVectorizer(max_features = 10000, ngram_range = (1,2))),\n",
    "    ('tfidf', TfidfTransformer(norm = 'l2')),\n",
    "    ('clf', MLPClassifier()),\n",
    "])\n",
    "clf = clf.fit(train_comments['comment'], train_comments['attack'])\n",
    "auc = roc_auc_score(test_comments['attack'], clf.predict_proba(test_comments['comment'])[:, 1])\n",
    "print('Test ROC AUC: %.3f' %auc)"
   ]
  },
  {
   "cell_type": "markdown",
   "metadata": {},
   "source": [
    "# Analysis"
   ]
  },
  {
   "cell_type": "code",
   "execution_count": 45,
   "metadata": {},
   "outputs": [
    {
     "data": {
      "text/plain": [
       "array([False])"
      ]
     },
     "execution_count": 45,
     "metadata": {},
     "output_type": "execute_result"
    }
   ],
   "source": [
    "# correctly classify nice comment\n",
    "clf.predict(['Thanks for you contribution, you did a great job!'])"
   ]
  },
  {
   "cell_type": "code",
   "execution_count": 46,
   "metadata": {},
   "outputs": [
    {
     "data": {
      "text/plain": [
       "array([False])"
      ]
     },
     "execution_count": 46,
     "metadata": {},
     "output_type": "execute_result"
    }
   ],
   "source": [
    "# correctly classify nasty comment\n",
    "clf.predict(['People as stupid as you should not edit Wikipedia!'])"
   ]
  },
  {
   "cell_type": "code",
   "execution_count": 47,
   "metadata": {},
   "outputs": [
    {
     "data": {
      "text/plain": [
       "0.24709437797605946"
      ]
     },
     "execution_count": 47,
     "metadata": {},
     "output_type": "execute_result"
    }
   ],
   "source": [
    "from sklearn.metrics import confusion_matrix\n",
    "y_val_pred = clf.predict_proba(test_comments['comment'])\n",
    "y_val = test_comments.attack\n",
    "log_loss(y_val, y_val_pred)"
   ]
  },
  {
   "cell_type": "code",
   "execution_count": 48,
   "metadata": {
    "collapsed": true
   },
   "outputs": [],
   "source": [
    "preds = clf.predict(test_comments['comment'])"
   ]
  },
  {
   "cell_type": "code",
   "execution_count": 49,
   "metadata": {},
   "outputs": [
    {
     "data": {
      "image/png": "[encoded data removed]",
      "text/plain": [
       "<matplotlib.figure.Figure at 0x12d591438>"
      ]
     },
     "metadata": {},
     "output_type": "display_data"
    }
   ],
   "source": [
    "bins = np.linspace(0, 1, 4)\n",
    "data = np.vstack([preds, y_val]).T\n",
    "plt.hist(data, bins, alpha=1, label=['predict','real'])\n",
    "plt.legend(loc='upper right')\n",
    "plt.show()"
   ]
  },
  {
   "cell_type": "code",
   "execution_count": 50,
   "metadata": {},
   "outputs": [
    {
     "name": "stdout",
     "output_type": "stream",
     "text": [
      "             precision    recall  f1-score   support\n",
      "\n",
      " not_attack       1.00      0.91      0.95     22290\n",
      "     attack       0.31      0.97      0.47       888\n",
      "\n",
      "avg / total       0.97      0.92      0.94     23178\n",
      "\n"
     ]
    }
   ],
   "source": [
    "from sklearn.metrics import classification_report\n",
    "\n",
    "target_names = ['not_attack', 'attack']\n",
    "print(classification_report(preds, y_val, target_names=target_names))"
   ]
  },
  {
   "cell_type": "code",
   "execution_count": 51,
   "metadata": {},
   "outputs": [
    {
     "data": {
      "text/plain": [
       "array([[20391,    31],\n",
       "       [ 1899,   857]])"
      ]
     },
     "execution_count": 51,
     "metadata": {},
     "output_type": "execute_result"
    }
   ],
   "source": [
    "from sklearn.metrics import confusion_matrix\n",
    "confusion_matrix(y_val, preds)"
   ]
  },
  {
   "cell_type": "code",
   "execution_count": 52,
   "metadata": {},
   "outputs": [
    {
     "ename": "NameError",
     "evalue": "name 'average_precision' is not defined",
     "output_type": "error",
     "traceback": [
      "\u001b[0;31m---------------------------------------------------------------------------\u001b[0m",
      "\u001b[0;31mNameError\u001b[0m                                 Traceback (most recent call last)",
      "\u001b[0;32m<ipython-input-52-bf32d926f451>\u001b[0m in \u001b[0;36m<module>\u001b[0;34m()\u001b[0m\n\u001b[0;32m----> 1\u001b[0;31m \u001b[0maverage_precision\u001b[0m\u001b[0;34m[\u001b[0m\u001b[0;34m'micro'\u001b[0m\u001b[0;34m]\u001b[0m\u001b[0;34m\u001b[0m\u001b[0m\n\u001b[0m",
      "\u001b[0;31mNameError\u001b[0m: name 'average_precision' is not defined"
     ]
    }
   ],
   "source": [
    "average_precision['micro']"
   ]
  },
  {
   "cell_type": "markdown",
   "metadata": {},
   "source": [
    "## CNN"
   ]
  },
  {
   "cell_type": "code",
   "execution_count": 6,
   "metadata": {},
   "outputs": [
    {
     "name": "stderr",
     "output_type": "stream",
     "text": [
      "/Users/sizhewen/anaconda3/envs/tensorflow/lib/python3.6/site-packages/h5py/__init__.py:36: FutureWarning: Conversion of the second argument of issubdtype from `float` to `np.floating` is deprecated. In future, it will be treated as `np.float64 == np.dtype(float).type`.\n",
      "  from ._conv import register_converters as _register_converters\n",
      "Using TensorFlow backend.\n"
     ]
    }
   ],
   "source": [
    "import keras, os, pickle, re, sklearn, string, tensorflow\n",
    "import numpy as np\n",
    "import matplotlib.pyplot as plt\n",
    "\n",
    "from nltk.corpus import stopwords\n",
    "from keras.utils import to_categorical\n",
    "from keras.callbacks import ModelCheckpoint, TensorBoard, ReduceLROnPlateau\n",
    "from keras.preprocessing.text import Tokenizer\n",
    "from keras.preprocessing.sequence import pad_sequences\n",
    "from keras.models import load_model\n",
    "from keras.layers import Embedding\n",
    "from keras.optimizers import Adadelta\n",
    "from sklearn.model_selection import train_test_split"
   ]
  },
  {
   "cell_type": "markdown",
   "metadata": {},
   "source": [
    "### Parameter"
   ]
  },
  {
   "cell_type": "code",
   "execution_count": 7,
   "metadata": {},
   "outputs": [],
   "source": [
    "# EMBEDDING\n",
    "MAX_NUM_WORDS  = 15000 # most comment number of words\n",
    "EMBEDDING_DIM  = 300\n",
    "MAX_SEQ_LENGTH = 200\n",
    "USE_GLOVE      = True\n",
    "USE_W2V        = False\n",
    "\n",
    "# MODEL\n",
    "FILTER_SIZES   = [3,4,5]\n",
    "FEATURE_MAPS   = [10,10,10]\n",
    "DROPOUT_RATE   = 0.5\n",
    "\n",
    "# LEARNING\n",
    "BATCH_SIZE     = 200\n",
    "NB_EPOCHS      = 40\n",
    "RUNS           = 1\n",
    "VAL_SIZE       = 0.1"
   ]
  },
  {
   "cell_type": "markdown",
   "metadata": {},
   "source": [
    "###  Tokenize comment string"
   ]
  },
  {
   "cell_type": "code",
   "execution_count": 36,
   "metadata": {
    "collapsed": true
   },
   "outputs": [],
   "source": [
    "# Clean comment string, and return a list of words\n",
    "# Only consider character and number\n",
    "def comment_to_wordlist(review, remove_stopwords=True):\n",
    "    # Remove non-letters \n",
    "    review = re.sub(\"[^a-zA-Z ]\",\" \", review)\n",
    "    words = review.lower().split()\n",
    "    if remove_stopwords:\n",
    "        words = [w for w in words if not w in stop_words]\n",
    "    return words"
   ]
  },
  {
   "cell_type": "code",
   "execution_count": 37,
   "metadata": {
    "collapsed": true
   },
   "outputs": [],
   "source": [
    "def clean_text(comment):\n",
    "    words = comment_to_wordlist(comment)\n",
    "    return ' '.join(words)"
   ]
  },
  {
   "cell_type": "markdown",
   "metadata": {},
   "source": [
    "### Text cleanning pipeline"
   ]
  },
  {
   "cell_type": "code",
   "execution_count": 8,
   "metadata": {},
   "outputs": [],
   "source": [
    "from nltk.corpus import stopwords\n",
    "from nltk.tokenize import word_tokenize\n",
    "import string\n",
    "import re\n",
    "\n",
    "def text_clean(text):\n",
    "    tokens = word_tokenize(text)\n",
    "#     tokens = re.split(r'\\W+', text)\n",
    "    tokens = [w.replace(\"NEWLINE_TOKEN\", \" \") for w in tokens]\n",
    "    tokens = [w.replace(\"TAB_TOKEN\", \" \") for w in tokens]\n",
    "    tokens = [w.lower() for w in tokens]\n",
    "    table = str.maketrans('','', string.punctuation)\n",
    "    tokens = [w.translate(table) for w in tokens]\n",
    "    tokens = [w for w in tokens if w.isalpha()]\n",
    "#     stop_words_list = set(stopwords.words('english'))\n",
    "#     tokens = [w for w in tokens if w not in stop_words_list]\n",
    "    filted_text = ' '.join(tokens)\n",
    "    return filted_text\n",
    "# comments['comment'] = comments['comment'].apply(text_clean)"
   ]
  },
  {
   "cell_type": "code",
   "execution_count": 12,
   "metadata": {},
   "outputs": [
    {
     "data": {
      "application/javascript": [
       "$(document).ready(\n",
       "    function() {\n",
       "        function appendUniqueDiv(){\n",
       "            // append a div with our uuid so we can check that it's already\n",
       "            // been sent and avoid duplicates on page reload\n",
       "            var notifiedDiv = document.createElement(\"div\")\n",
       "            notifiedDiv.id = \"8be981ea-48b7-45e4-890e-422d7073fd5b\"\n",
       "            element.append(notifiedDiv)\n",
       "        }\n",
       "\n",
       "        // only send notifications if the pageload is complete; this will\n",
       "        // help stop extra notifications when a saved notebook is loaded,\n",
       "        // which during testing gives us state \"interactive\", not \"complete\"\n",
       "        if (document.readyState === 'complete') {\n",
       "            // check for the div that signifies that the notification\n",
       "            // was already sent\n",
       "            if (document.getElementById(\"8be981ea-48b7-45e4-890e-422d7073fd5b\") === null) {\n",
       "                var notificationPayload = {\"requireInteraction\": false, \"icon\": \"/static/base/images/favicon.ico\", \"body\": \"clean\"};\n",
       "                if (Notification.permission !== 'denied') {\n",
       "                    if (Notification.permission !== 'granted') { \n",
       "                        Notification.requestPermission(function (permission) {\n",
       "                            if(!('permission' in Notification)) {\n",
       "                                Notification.permission = permission\n",
       "                            }\n",
       "                        })\n",
       "                    }\n",
       "                    if (Notification.permission === 'granted') {\n",
       "                    var notification = new Notification(\"Jupyter Notebook\", notificationPayload)\n",
       "                    appendUniqueDiv()\n",
       "                    notification.onclick = function () {\n",
       "                        window.focus();\n",
       "                        this.close();\n",
       "                        };\n",
       "                    } \n",
       "                }     \n",
       "            }\n",
       "        }\n",
       "    }\n",
       ")\n"
      ],
      "text/plain": [
       "<IPython.core.display.Javascript object>"
      ]
     },
     "metadata": {},
     "output_type": "display_data"
    },
    {
     "ename": "NameError",
     "evalue": "name 'X_train' is not defined",
     "output_type": "error",
     "traceback": [
      "\u001b[0;31m---------------------------------------------------------------------------\u001b[0m",
      "\u001b[0;31mNameError\u001b[0m                                 Traceback (most recent call last)",
      "\u001b[0;32m<ipython-input-12-ef5b34c317b2>\u001b[0m in \u001b[0;36m<module>\u001b[0;34m()\u001b[0m\n\u001b[1;32m      1\u001b[0m \u001b[0mget_ipython\u001b[0m\u001b[0;34m(\u001b[0m\u001b[0;34m)\u001b[0m\u001b[0;34m.\u001b[0m\u001b[0mrun_line_magic\u001b[0m\u001b[0;34m(\u001b[0m\u001b[0;34m'notify'\u001b[0m\u001b[0;34m,\u001b[0m \u001b[0;34m'-m \"clean\"'\u001b[0m\u001b[0;34m)\u001b[0m\u001b[0;34m\u001b[0m\u001b[0m\n\u001b[1;32m      2\u001b[0m \u001b[0;34m\u001b[0m\u001b[0m\n\u001b[0;32m----> 3\u001b[0;31m \u001b[0mX_train_clean\u001b[0m \u001b[0;34m=\u001b[0m \u001b[0mX_train\u001b[0m\u001b[0;34m.\u001b[0m\u001b[0mapply\u001b[0m\u001b[0;34m(\u001b[0m\u001b[0mtext_clean\u001b[0m\u001b[0;34m)\u001b[0m\u001b[0;34m\u001b[0m\u001b[0m\n\u001b[0m\u001b[1;32m      4\u001b[0m \u001b[0mX_test_clean\u001b[0m \u001b[0;34m=\u001b[0m \u001b[0mX_test\u001b[0m\u001b[0;34m.\u001b[0m\u001b[0mapply\u001b[0m\u001b[0;34m(\u001b[0m\u001b[0mtext_clean\u001b[0m\u001b[0;34m)\u001b[0m\u001b[0;34m\u001b[0m\u001b[0m\n",
      "\u001b[0;31mNameError\u001b[0m: name 'X_train' is not defined"
     ]
    }
   ],
   "source": [
    "% notify -m \"clean\"\n",
    "\n",
    "X_train_clean = X_train.apply(text_clean)\n",
    "X_test_clean = X_test.apply(text_clean)"
   ]
  },
  {
   "cell_type": "code",
   "execution_count": 10,
   "metadata": {},
   "outputs": [
    {
     "name": "stderr",
     "output_type": "stream",
     "text": [
      "UsageError: Line magic function `%notify` not found.\n"
     ]
    }
   ],
   "source": [
    "% notify -m \"clean\"\n",
    "X_train_clean.sample(3)"
   ]
  },
  {
   "cell_type": "code",
   "execution_count": 17,
   "metadata": {},
   "outputs": [
    {
     "data": {
      "text/plain": [
       "rev_id\n",
       "453424686    real steel toys and video game is a real steel...\n",
       "635619845    the entire wikipedia entry is the result of a ...\n",
       "318001235    on a casual scan there are several punctuation...\n",
       "Name: comment, dtype: object"
      ]
     },
     "execution_count": 17,
     "metadata": {},
     "output_type": "execute_result"
    }
   ],
   "source": [
    "X_test_clean.sample(3)"
   ]
  },
  {
   "cell_type": "code",
   "execution_count": 16,
   "metadata": {},
   "outputs": [],
   "source": [
    "docs = X_train.tolist()\n",
    "test_docs = X_test.tolist()"
   ]
  },
  {
   "cell_type": "code",
   "execution_count": 17,
   "metadata": {},
   "outputs": [
    {
     "name": "stdout",
     "output_type": "stream",
     "text": [
      "Text informations:\n",
      "max length: 2829 / min length: 1 / mean length: 68 / limit length: 200\n",
      "vacobulary size: 138527 / limit: 15000\n"
     ]
    }
   ],
   "source": [
    "def max_length(lines):\n",
    "    \"\"\"\n",
    "    Calculate the maximum document length\n",
    "    \"\"\"\n",
    "    return max([len(s.split()) for s in lines])\n",
    "\n",
    "tokenizer = Tokenizer(num_words=MAX_NUM_WORDS)\n",
    "tokenizer.fit_on_texts(docs)\n",
    "sequences = tokenizer.texts_to_sequences(docs)\n",
    "\n",
    "length = max_length(docs)\n",
    "word_index = tokenizer.word_index\n",
    "result = [len(x.split()) for x in docs]\n",
    "\n",
    "print('Text informations:')\n",
    "print('max length: %i / min length: %i / mean length: %i / limit length: %i' % (np.max(result),\n",
    "                                                                                np.min(result),\n",
    "                                                                                np.mean(result),\n",
    "                                                                                MAX_SEQ_LENGTH))\n",
    "print('vacobulary size: %i / limit: %i' % (len(word_index), MAX_NUM_WORDS))"
   ]
  },
  {
   "cell_type": "code",
   "execution_count": 18,
   "metadata": {},
   "outputs": [
    {
     "name": "stdout",
     "output_type": "stream",
     "text": [
      "Text informations:\n",
      "max length: 2500 / min length: 1 / mean length: 69 / limit length: 200\n",
      "vacobulary size: 138527 / limit: 15000\n"
     ]
    }
   ],
   "source": [
    "test_tokenizer = Tokenizer(num_words=MAX_NUM_WORDS)\n",
    "test_tokenizer.fit_on_texts(test_docs)\n",
    "test_sequences = test_tokenizer.texts_to_sequences(test_docs)\n",
    "\n",
    "test_length = max_length(test_docs)\n",
    "test_word_index = tokenizer.word_index\n",
    "test_result = [len(x.split()) for x in test_docs]\n",
    "\n",
    "print('Text informations:')\n",
    "print('max length: %i / min length: %i / mean length: %i / limit length: %i' % (np.max(test_result),\n",
    "                                                                                np.min(test_result),\n",
    "                                                                                np.mean(test_result),\n",
    "                                                                                MAX_SEQ_LENGTH))\n",
    "print('vacobulary size: %i / limit: %i' % (len(test_word_index), MAX_NUM_WORDS))"
   ]
  },
  {
   "cell_type": "code",
   "execution_count": 19,
   "metadata": {},
   "outputs": [
    {
     "data": {
      "application/javascript": [
       "$(document).ready(\n",
       "    function() {\n",
       "        function appendUniqueDiv(){\n",
       "            // append a div with our uuid so we can check that it's already\n",
       "            // been sent and avoid duplicates on page reload\n",
       "            var notifiedDiv = document.createElement(\"div\")\n",
       "            notifiedDiv.id = \"0091e6e7-2d7e-420a-83fb-3c4d0a9f9f14\"\n",
       "            element.append(notifiedDiv)\n",
       "        }\n",
       "\n",
       "        // only send notifications if the pageload is complete; this will\n",
       "        // help stop extra notifications when a saved notebook is loaded,\n",
       "        // which during testing gives us state \"interactive\", not \"complete\"\n",
       "        if (document.readyState === 'complete') {\n",
       "            // check for the div that signifies that the notification\n",
       "            // was already sent\n",
       "            if (document.getElementById(\"0091e6e7-2d7e-420a-83fb-3c4d0a9f9f14\") === null) {\n",
       "                var notificationPayload = {\"requireInteraction\": false, \"icon\": \"/static/base/images/favicon.ico\", \"body\": \"X , Y ready\"};\n",
       "                if (Notification.permission !== 'denied') {\n",
       "                    if (Notification.permission !== 'granted') { \n",
       "                        Notification.requestPermission(function (permission) {\n",
       "                            if(!('permission' in Notification)) {\n",
       "                                Notification.permission = permission\n",
       "                            }\n",
       "                        })\n",
       "                    }\n",
       "                    if (Notification.permission === 'granted') {\n",
       "                    var notification = new Notification(\"Jupyter Notebook\", notificationPayload)\n",
       "                    appendUniqueDiv()\n",
       "                    notification.onclick = function () {\n",
       "                        window.focus();\n",
       "                        this.close();\n",
       "                        };\n",
       "                    } \n",
       "                }     \n",
       "            }\n",
       "        }\n",
       "    }\n",
       ")\n"
      ],
      "text/plain": [
       "<IPython.core.display.Javascript object>"
      ]
     },
     "metadata": {},
     "output_type": "display_data"
    }
   ],
   "source": [
    "% notify -m \"X , Y ready\"\n",
    "\n",
    "# Padding all sequences to same length of `MAX_SEQ_LENGTH`\n",
    "x_train = pad_sequences(sequences, maxlen=MAX_SEQ_LENGTH, padding='post')\n",
    "y_train = Y_train.tolist()\n",
    "x_val = pad_sequences(test_sequences, maxlen=MAX_SEQ_LENGTH, padding='post')\n",
    "y_val = Y_test.tolist()"
   ]
  },
  {
   "cell_type": "markdown",
   "metadata": {
    "collapsed": true
   },
   "source": [
    "### Embeddings  \n",
    "  \n",
    "#### GloVe: Global Vectors for Word Representation\n",
    "Please Refer: https://nlp.stanford.edu/projects/glove/"
   ]
  },
  {
   "cell_type": "code",
   "execution_count": 20,
   "metadata": {},
   "outputs": [],
   "source": [
    "def create_glove_embeddings():\n",
    "    print('Pretrained embeddings GloVe is loading...')\n",
    "\n",
    "    embeddings_index = {}\n",
    "    f = open('glove.6B.300d.txt')\n",
    "    for line in f:\n",
    "        values = line.split()\n",
    "        word = values[0]\n",
    "        coefs = np.asarray(values[1:], dtype='float32')\n",
    "        embeddings_index[word] = coefs\n",
    "    f.close()\n",
    "    print('Found %s word vectors in GloVe embedding' % len(embeddings_index))\n",
    "\n",
    "    embedding_matrix = np.zeros((MAX_NUM_WORDS, EMBEDDING_DIM))\n",
    "\n",
    "    for word, i in tokenizer.word_index.items():\n",
    "        if i >= MAX_NUM_WORDS:\n",
    "            continue\n",
    "        embedding_vector = embeddings_index.get(word)\n",
    "        if embedding_vector is not None:\n",
    "            embedding_matrix[i] = embedding_vector\n",
    "\n",
    "    return Embedding(input_dim=MAX_NUM_WORDS, output_dim=EMBEDDING_DIM,\n",
    "                     input_length=MAX_SEQ_LENGTH,\n",
    "                     weights=[embedding_matrix],\n",
    "                     trainable=True\n",
    "                    )"
   ]
  },
  {
   "cell_type": "code",
   "execution_count": 29,
   "metadata": {
    "collapsed": true
   },
   "outputs": [],
   "source": [
    "from gensim.models import word2vec"
   ]
  },
  {
   "cell_type": "code",
   "execution_count": 72,
   "metadata": {
    "collapsed": true
   },
   "outputs": [],
   "source": [
    "def create_w2v_embeddings():\n",
    "    print('Pretrained embeddings w2v is loading...')\n",
    "    \n",
    "    model = word2vec.Word2Vec.load('w2v_model')\n",
    "    embeddings_index = {}\n",
    "\n",
    "    embedding_matrix = np.zeros((MAX_NUM_WORDS, EMBEDDING_DIM))\n",
    "\n",
    "    for word, i in tokenizer.word_index.items():\n",
    "        if i >= MAX_NUM_WORDS:\n",
    "            continue\n",
    "        if word in model.wv:\n",
    "            embedding_vector = model.wv[word]\n",
    "            embedding_matrix[i] = embedding_vector\n",
    "        #if embedding_vector is not None:\n",
    "            \n",
    "\n",
    "    return Embedding(input_dim=MAX_NUM_WORDS, output_dim=EMBEDDING_DIM,\n",
    "                     input_length=MAX_SEQ_LENGTH,\n",
    "                     weights=[embedding_matrix],\n",
    "                     trainable=True\n",
    "                    )"
   ]
  },
  {
   "cell_type": "code",
   "execution_count": 83,
   "metadata": {},
   "outputs": [
    {
     "data": {
      "text/plain": [
       "2756"
      ]
     },
     "execution_count": 83,
     "metadata": {},
     "output_type": "execute_result"
    }
   ],
   "source": [
    "label = Y_train.tolist()\n",
    "len([x for x in y_val if x])"
   ]
  },
  {
   "cell_type": "code",
   "execution_count": 22,
   "metadata": {},
   "outputs": [
    {
     "name": "stdout",
     "output_type": "stream",
     "text": [
      "69526\n",
      "69526\n",
      "23178\n",
      "23178\n"
     ]
    }
   ],
   "source": [
    "print(len(x_train))\n",
    "print(len(y_train))\n",
    "print(len(x_val))\n",
    "print(len(y_val))"
   ]
  },
  {
   "cell_type": "markdown",
   "metadata": {},
   "source": [
    "### Training"
   ]
  },
  {
   "cell_type": "code",
   "execution_count": 23,
   "metadata": {},
   "outputs": [],
   "source": [
    "import h5py"
   ]
  },
  {
   "cell_type": "code",
   "execution_count": 24,
   "metadata": {},
   "outputs": [
    {
     "data": {
      "application/javascript": [
       "$(document).ready(\n",
       "    function() {\n",
       "        function appendUniqueDiv(){\n",
       "            // append a div with our uuid so we can check that it's already\n",
       "            // been sent and avoid duplicates on page reload\n",
       "            var notifiedDiv = document.createElement(\"div\")\n",
       "            notifiedDiv.id = \"30b55a13-22d0-4b72-b969-1bb5fee51ae8\"\n",
       "            element.append(notifiedDiv)\n",
       "        }\n",
       "\n",
       "        // only send notifications if the pageload is complete; this will\n",
       "        // help stop extra notifications when a saved notebook is loaded,\n",
       "        // which during testing gives us state \"interactive\", not \"complete\"\n",
       "        if (document.readyState === 'complete') {\n",
       "            // check for the div that signifies that the notification\n",
       "            // was already sent\n",
       "            if (document.getElementById(\"30b55a13-22d0-4b72-b969-1bb5fee51ae8\") === null) {\n",
       "                var notificationPayload = {\"requireInteraction\": false, \"icon\": \"/static/base/images/favicon.ico\", \"body\": \"finish!\"};\n",
       "                if (Notification.permission !== 'denied') {\n",
       "                    if (Notification.permission !== 'granted') { \n",
       "                        Notification.requestPermission(function (permission) {\n",
       "                            if(!('permission' in Notification)) {\n",
       "                                Notification.permission = permission\n",
       "                            }\n",
       "                        })\n",
       "                    }\n",
       "                    if (Notification.permission === 'granted') {\n",
       "                    var notification = new Notification(\"Jupyter Notebook\", notificationPayload)\n",
       "                    appendUniqueDiv()\n",
       "                    notification.onclick = function () {\n",
       "                        window.focus();\n",
       "                        this.close();\n",
       "                        };\n",
       "                    } \n",
       "                }     \n",
       "            }\n",
       "        }\n",
       "    }\n",
       ")\n"
      ],
      "text/plain": [
       "<IPython.core.display.Javascript object>"
      ]
     },
     "metadata": {},
     "output_type": "display_data"
    },
    {
     "name": "stdout",
     "output_type": "stream",
     "text": [
      "Running iteration 1/1\n",
      "Pretrained embeddings GloVe is loading...\n",
      "Found 400000 word vectors in GloVe embedding\n",
      "Creating CNN 0.0.1\n",
      "#############################################\n",
      "Embedding:    using pre-trained embedding\n",
      "Vocabulary size: 15000\n",
      "Embedding dim: 300\n",
      "Filter sizes: [3, 4, 5]\n",
      "Feature maps: [10, 10, 10]\n",
      "Max sequence: 200\n",
      "#############################################\n",
      "WARNING:tensorflow:From /Users/sizhewen/anaconda3/envs/tensorflow/lib/python3.6/site-packages/tensorflow/python/util/deprecation.py:497: calling conv1d (from tensorflow.python.ops.nn_ops) with data_format=NHWC is deprecated and will be removed in a future version.\n",
      "Instructions for updating:\n",
      "`NHWC` for data_format is deprecated, use `NWC` instead\n",
      "Train on 69526 samples, validate on 23178 samples\n",
      "Epoch 1/40\n",
      "69526/69526 [==============================] - 362s 5ms/step - loss: 0.4409 - acc: 0.8968 - val_loss: 0.4040 - val_acc: 0.8743\n",
      "\n",
      "Epoch 00001: val_loss improved from inf to 0.40401, saving model to model-1.h5\n",
      "Epoch 2/40\n",
      "69526/69526 [==============================] - 353s 5ms/step - loss: 0.2581 - acc: 0.9204 - val_loss: 0.4718 - val_acc: 0.8243\n",
      "\n",
      "Epoch 00002: val_loss did not improve\n",
      "Epoch 3/40\n",
      "69526/69526 [==============================] - 355s 5ms/step - loss: 0.2364 - acc: 0.9274 - val_loss: 0.5349 - val_acc: 0.8102\n",
      "\n",
      "Epoch 00003: val_loss did not improve\n",
      "Epoch 4/40\n",
      "69526/69526 [==============================] - 351s 5ms/step - loss: 0.2272 - acc: 0.9302 - val_loss: 0.4980 - val_acc: 0.8586\n",
      "\n",
      "Epoch 00004: val_loss did not improve\n",
      "Epoch 5/40\n",
      "69526/69526 [==============================] - 444s 6ms/step - loss: 0.2213 - acc: 0.9325 - val_loss: 0.5232 - val_acc: 0.8210\n",
      "\n",
      "Epoch 00005: val_loss did not improve\n",
      "Epoch 6/40\n",
      "69526/69526 [==============================] - 442s 6ms/step - loss: 0.2156 - acc: 0.9342 - val_loss: 0.5125 - val_acc: 0.8397\n",
      "\n",
      "Epoch 00006: val_loss did not improve\n",
      "Epoch 7/40\n",
      "69526/69526 [==============================] - 457s 7ms/step - loss: 0.1957 - acc: 0.9375 - val_loss: 0.5035 - val_acc: 0.8310\n",
      "\n",
      "Epoch 00007: val_loss did not improve\n",
      "Epoch 8/40\n",
      "69526/69526 [==============================] - 459s 7ms/step - loss: 0.1883 - acc: 0.9380 - val_loss: 0.5070 - val_acc: 0.8276\n",
      "\n",
      "Epoch 00008: val_loss did not improve\n",
      "Epoch 9/40\n",
      "69526/69526 [==============================] - 434s 6ms/step - loss: 0.1875 - acc: 0.9378 - val_loss: 0.4866 - val_acc: 0.8378\n",
      "\n",
      "Epoch 00009: val_loss did not improve\n",
      "Epoch 10/40\n",
      "69526/69526 [==============================] - 384s 6ms/step - loss: 0.1851 - acc: 0.9380 - val_loss: 0.5034 - val_acc: 0.8265\n",
      "\n",
      "Epoch 00010: val_loss did not improve\n",
      "Epoch 11/40\n",
      "69526/69526 [==============================] - 378s 5ms/step - loss: 0.1836 - acc: 0.9377 - val_loss: 0.4982 - val_acc: 0.8326\n",
      "\n",
      "Epoch 00011: val_loss did not improve\n",
      "Epoch 12/40\n",
      "69526/69526 [==============================] - 394s 6ms/step - loss: 0.1829 - acc: 0.9375 - val_loss: 0.4967 - val_acc: 0.8346\n",
      "\n",
      "Epoch 00012: val_loss did not improve\n",
      "Epoch 13/40\n",
      "69526/69526 [==============================] - 384s 6ms/step - loss: 0.1823 - acc: 0.9384 - val_loss: 0.4979 - val_acc: 0.8331\n",
      "\n",
      "Epoch 00013: val_loss did not improve\n",
      "Epoch 14/40\n",
      "69526/69526 [==============================] - 353s 5ms/step - loss: 0.1824 - acc: 0.9383 - val_loss: 0.4983 - val_acc: 0.8339\n",
      "\n",
      "Epoch 00014: val_loss did not improve\n",
      "Epoch 15/40\n",
      "69526/69526 [==============================] - 377s 5ms/step - loss: 0.1821 - acc: 0.9388 - val_loss: 0.4982 - val_acc: 0.8350\n",
      "\n",
      "Epoch 00015: val_loss did not improve\n",
      "Epoch 16/40\n",
      "69526/69526 [==============================] - 353s 5ms/step - loss: 0.1822 - acc: 0.9383 - val_loss: 0.4995 - val_acc: 0.8322\n",
      "\n",
      "Epoch 00016: val_loss did not improve\n",
      "Epoch 17/40\n",
      "69526/69526 [==============================] - 354s 5ms/step - loss: 0.1829 - acc: 0.9373 - val_loss: 0.4968 - val_acc: 0.8339\n",
      "\n",
      "Epoch 00017: val_loss did not improve\n",
      "Epoch 18/40\n",
      "69526/69526 [==============================] - 350s 5ms/step - loss: 0.1810 - acc: 0.9389 - val_loss: 0.5004 - val_acc: 0.8323\n",
      "\n",
      "Epoch 00018: val_loss did not improve\n",
      "Epoch 19/40\n",
      "69526/69526 [==============================] - 345s 5ms/step - loss: 0.1817 - acc: 0.9380 - val_loss: 0.4972 - val_acc: 0.8337\n",
      "\n",
      "Epoch 00019: val_loss did not improve\n",
      "Epoch 20/40\n",
      "69526/69526 [==============================] - 346s 5ms/step - loss: 0.1821 - acc: 0.9385 - val_loss: 0.4980 - val_acc: 0.8342\n",
      "\n",
      "Epoch 00020: val_loss did not improve\n",
      "Epoch 21/40\n",
      "69526/69526 [==============================] - 344s 5ms/step - loss: 0.1814 - acc: 0.9382 - val_loss: 0.4988 - val_acc: 0.8338\n",
      "\n",
      "Epoch 00021: val_loss did not improve\n",
      "Epoch 22/40\n",
      "69526/69526 [==============================] - 348s 5ms/step - loss: 0.1814 - acc: 0.9384 - val_loss: 0.4975 - val_acc: 0.8349\n",
      "\n",
      "Epoch 00022: val_loss did not improve\n",
      "Epoch 23/40\n",
      "69526/69526 [==============================] - 348s 5ms/step - loss: 0.1819 - acc: 0.9383 - val_loss: 0.4980 - val_acc: 0.8345\n",
      "\n",
      "Epoch 00023: val_loss did not improve\n",
      "Epoch 24/40\n",
      "69526/69526 [==============================] - 346s 5ms/step - loss: 0.1802 - acc: 0.9385 - val_loss: 0.4989 - val_acc: 0.8329\n",
      "\n",
      "Epoch 00024: val_loss did not improve\n",
      "Epoch 25/40\n",
      "69526/69526 [==============================] - 347s 5ms/step - loss: 0.1804 - acc: 0.9388 - val_loss: 0.4990 - val_acc: 0.8329\n",
      "\n",
      "Epoch 00025: val_loss did not improve\n",
      "Epoch 26/40\n",
      "69526/69526 [==============================] - 345s 5ms/step - loss: 0.1809 - acc: 0.9382 - val_loss: 0.5012 - val_acc: 0.8309\n",
      "\n",
      "Epoch 00026: val_loss did not improve\n",
      "Epoch 27/40\n",
      "69526/69526 [==============================] - 350s 5ms/step - loss: 0.1810 - acc: 0.9382 - val_loss: 0.4978 - val_acc: 0.8343\n",
      "\n",
      "Epoch 00027: val_loss did not improve\n",
      "Epoch 28/40\n",
      "69526/69526 [==============================] - 345s 5ms/step - loss: 0.1804 - acc: 0.9380 - val_loss: 0.4991 - val_acc: 0.8351\n",
      "\n",
      "Epoch 00028: val_loss did not improve\n",
      "Epoch 29/40\n",
      "69526/69526 [==============================] - 345s 5ms/step - loss: 0.1807 - acc: 0.9385 - val_loss: 0.4995 - val_acc: 0.8343\n",
      "\n",
      "Epoch 00029: val_loss did not improve\n",
      "Epoch 30/40\n",
      "69526/69526 [==============================] - 345s 5ms/step - loss: 0.1813 - acc: 0.9381 - val_loss: 0.4974 - val_acc: 0.8354\n",
      "\n",
      "Epoch 00030: val_loss did not improve\n",
      "Epoch 31/40\n",
      "69526/69526 [==============================] - 346s 5ms/step - loss: 0.1799 - acc: 0.9390 - val_loss: 0.4983 - val_acc: 0.8350\n",
      "\n",
      "Epoch 00031: val_loss did not improve\n",
      "Epoch 32/40\n",
      "69526/69526 [==============================] - 349s 5ms/step - loss: 0.1810 - acc: 0.9380 - val_loss: 0.4972 - val_acc: 0.8343\n",
      "\n",
      "Epoch 00032: val_loss did not improve\n",
      "Epoch 33/40\n",
      "69526/69526 [==============================] - 349s 5ms/step - loss: 0.1808 - acc: 0.9385 - val_loss: 0.4973 - val_acc: 0.8349\n",
      "\n",
      "Epoch 00033: val_loss did not improve\n",
      "Epoch 34/40\n",
      "69526/69526 [==============================] - 349s 5ms/step - loss: 0.1789 - acc: 0.9388 - val_loss: 0.5019 - val_acc: 0.8320\n",
      "\n",
      "Epoch 00034: val_loss did not improve\n",
      "Epoch 35/40\n",
      "69526/69526 [==============================] - 344s 5ms/step - loss: 0.1803 - acc: 0.9379 - val_loss: 0.5020 - val_acc: 0.8309\n",
      "\n",
      "Epoch 00035: val_loss did not improve\n",
      "Epoch 36/40\n",
      "69526/69526 [==============================] - 355s 5ms/step - loss: 0.1795 - acc: 0.9383 - val_loss: 0.4977 - val_acc: 0.8350\n",
      "\n",
      "Epoch 00036: val_loss did not improve\n",
      "Epoch 37/40\n",
      "69526/69526 [==============================] - 465s 7ms/step - loss: 0.1794 - acc: 0.9389 - val_loss: 0.4978 - val_acc: 0.8336\n",
      "\n",
      "Epoch 00037: val_loss did not improve\n",
      "Epoch 38/40\n",
      "69526/69526 [==============================] - 436s 6ms/step - loss: 0.1792 - acc: 0.9383 - val_loss: 0.5006 - val_acc: 0.8319\n",
      "\n",
      "Epoch 00038: val_loss did not improve\n",
      "Epoch 39/40\n",
      "69526/69526 [==============================] - 402s 6ms/step - loss: 0.1791 - acc: 0.9386 - val_loss: 0.4972 - val_acc: 0.8353\n",
      "\n",
      "Epoch 00039: val_loss did not improve\n",
      "Epoch 40/40\n",
      "69526/69526 [==============================] - 401s 6ms/step - loss: 0.1801 - acc: 0.9386 - val_loss: 0.4983 - val_acc: 0.8346\n",
      "\n",
      "Epoch 00040: val_loss did not improve\n",
      "\n"
     ]
    }
   ],
   "source": [
    "% notify -m \"finish!\"\n",
    "import cnn_model\n",
    "\n",
    "histories = []\n",
    "\n",
    "for i in range(RUNS):\n",
    "    print('Running iteration %i/%i' % (i+1, RUNS))\n",
    "\n",
    "    \n",
    "    if USE_W2V:\n",
    "        emb_layer = create_w2v_embeddings()\n",
    "    elif USE_GLOVE:\n",
    "        emb_layer = create_glove_embeddings()\n",
    "    else:\n",
    "        emb_layer = None\n",
    "        \n",
    "    model = cnn_model.build_cnn(\n",
    "        embedding_layer=emb_layer,\n",
    "        num_words=MAX_NUM_WORDS,\n",
    "        embedding_dim=EMBEDDING_DIM,\n",
    "        filter_sizes=FILTER_SIZES,\n",
    "        feature_maps=FEATURE_MAPS,\n",
    "        max_seq_length=MAX_SEQ_LENGTH,\n",
    "        dropout_rate=DROPOUT_RATE\n",
    "    )\n",
    "    \n",
    "    model.compile(\n",
    "        loss='binary_crossentropy',\n",
    "        optimizer=Adadelta(clipvalue=3),\n",
    "        metrics=['accuracy']\n",
    "    )\n",
    "    \n",
    "    history = model.fit(\n",
    "        x_train, y_train,\n",
    "        epochs=NB_EPOCHS,\n",
    "        batch_size=BATCH_SIZE,\n",
    "        verbose=1,\n",
    "        validation_data=(x_val, y_val),\n",
    "        callbacks=[ModelCheckpoint('model-%i.h5'%(i+1), monitor='val_loss',\n",
    "                                   verbose=1, save_best_only=True, mode='min'),\n",
    "                   ReduceLROnPlateau(monitor='val_loss', factor=0.1, patience=4, min_lr=0.01)\n",
    "                  ]\n",
    "    )\n",
    "    print()\n",
    "    histories.append(history.history)"
   ]
  },
  {
   "cell_type": "code",
   "execution_count": 2,
   "metadata": {},
   "outputs": [
    {
     "ename": "ModuleNotFoundError",
     "evalue": "No module named 'nltk'",
     "output_type": "error",
     "traceback": [
      "\u001b[0;31m---------------------------------------------------------------------------\u001b[0m",
      "\u001b[0;31mModuleNotFoundError\u001b[0m                       Traceback (most recent call last)",
      "\u001b[0;32m<ipython-input-2-3b8522b232e5>\u001b[0m in \u001b[0;36m<module>\u001b[0;34m()\u001b[0m\n\u001b[0;32m----> 1\u001b[0;31m \u001b[0;32mimport\u001b[0m \u001b[0mnltk\u001b[0m\u001b[0;34m.\u001b[0m\u001b[0mdata\u001b[0m\u001b[0;34m\u001b[0m\u001b[0m\n\u001b[0m",
      "\u001b[0;31mModuleNotFoundError\u001b[0m: No module named 'nltk'"
     ]
    }
   ],
   "source": [
    "import nltk.data"
   ]
  },
  {
   "cell_type": "code",
   "execution_count": 10,
   "metadata": {},
   "outputs": [],
   "source": [
    "nltk.data.path = ['/Users/liangpengzhuang/Downloads/nltk_data']"
   ]
  },
  {
   "cell_type": "code",
   "execution_count": 25,
   "metadata": {},
   "outputs": [],
   "source": [
    "with open('history.pkl', 'wb') as f:\n",
    "    pickle.dump(histories, f)"
   ]
  },
  {
   "cell_type": "code",
   "execution_count": 26,
   "metadata": {},
   "outputs": [],
   "source": [
    "histories = pickle.load(open('history.pkl', 'rb'))"
   ]
  },
  {
   "cell_type": "code",
   "execution_count": 27,
   "metadata": {},
   "outputs": [
    {
     "name": "stdout",
     "output_type": "stream",
     "text": [
      "Training: \t0.4409 loss / 0.8968 acc\n",
      "Validation: \t0.4040 loss / 0.8743 acc\n"
     ]
    }
   ],
   "source": [
    "def get_avg(histories, his_key):\n",
    "    tmp = []\n",
    "    for history in histories:\n",
    "        tmp.append(history[his_key][np.argmin(history['val_loss'])])\n",
    "    return np.mean(tmp)\n",
    "    \n",
    "print('Training: \\t%0.4f loss / %0.4f acc' % (get_avg(histories, 'loss'),\n",
    "                                              get_avg(histories, 'acc')))\n",
    "print('Validation: \\t%0.4f loss / %0.4f acc' % (get_avg(histories, 'val_loss'),\n",
    "                                                get_avg(histories, 'val_acc')))"
   ]
  },
  {
   "cell_type": "code",
   "execution_count": 28,
   "metadata": {},
   "outputs": [],
   "source": [
    "def plot_acc_loss(title, histories, key_acc, key_loss):\n",
    "    fig, (ax1, ax2) = plt.subplots(1, 2)\n",
    "    # Accuracy\n",
    "    ax1.set_title('Model accuracy (%s)' % title)\n",
    "    names = []\n",
    "    for i, model in enumerate(histories):\n",
    "        ax1.plot(model[key_acc])\n",
    "        ax1.set_xlabel('epoch')\n",
    "        names.append('Model %i' % (i+1))\n",
    "        ax1.set_ylabel('accuracy')\n",
    "    ax1.legend(names, loc='lower right')\n",
    "    # Loss\n",
    "    ax2.set_title('Model loss (%s)' % title)\n",
    "    for model in histories:\n",
    "        ax2.plot(model[key_loss])\n",
    "        ax2.set_xlabel('epoch')\n",
    "        ax2.set_ylabel('loss')\n",
    "    ax2.legend(names, loc='upper right')\n",
    "    fig.set_size_inches(20, 5)\n",
    "    plt.show()"
   ]
  },
  {
   "cell_type": "code",
   "execution_count": 29,
   "metadata": {},
   "outputs": [
    {
     "data": {
      "image/png": "[encoded data removed]",
      "text/plain": [
       "<Figure size 1440x360 with 2 Axes>"
      ]
     },
     "metadata": {},
     "output_type": "display_data"
    },
    {
     "data": {
      "image/png": "[encoded data removed]",
      "text/plain": [
       "<Figure size 1440x360 with 2 Axes>"
      ]
     },
     "metadata": {},
     "output_type": "display_data"
    }
   ],
   "source": [
    "\n",
    "plot_acc_loss('training', histories, 'acc', 'loss')\n",
    "plot_acc_loss('validation', histories, 'val_acc', 'val_loss')"
   ]
  },
  {
   "cell_type": "code",
   "execution_count": 30,
   "metadata": {},
   "outputs": [],
   "source": [
    "sequences_test = tokenizer.texts_to_sequences(X_test)\n",
    "\n",
    "X_test = pad_sequences(sequences_test, maxlen=MAX_SEQ_LENGTH, padding='post')"
   ]
  },
  {
   "cell_type": "code",
   "execution_count": 32,
   "metadata": {},
   "outputs": [
    {
     "name": "stdout",
     "output_type": "stream",
     "text": [
      "23178/23178 [==============================] - 52s 2ms/step\n",
      "Running test with model 1: 0.2495 loss / 0.9216 acc\n",
      "\n",
      "Average loss / accuracy on testset: 0.2495 loss / 0.9216 acc\n",
      "Standard deviation: (+-0.0000) loss / (+-0.0000) acc\n"
     ]
    }
   ],
   "source": [
    "\n",
    "test_loss = []\n",
    "test_accs = []\n",
    "test_labels = []\n",
    "test_predicted = []\n",
    "\n",
    "for i in range(0,RUNS):\n",
    "    cnn_ = load_model(\"model-%i.h5\" % (i+1))\n",
    "    \n",
    "    score = cnn_.evaluate(X_test, Y_test, verbose=1)\n",
    "    test_loss.append(score[0])\n",
    "    test_accs.append(score[1])\n",
    "    \n",
    "    \n",
    "    print('Running test with model %i: %0.4f loss / %0.4f acc' % (i+1, score[0], score[1]))\n",
    "    \n",
    "print('\\nAverage loss / accuracy on testset: %0.4f loss / %0.4f acc' % (np.mean(test_loss),\n",
    "                                                                        np.mean(test_accs)))\n",
    "print('Standard deviation: (+-%0.4f) loss / (+-%0.4f) acc' % (np.std(test_loss), np.std(test_accs)))"
   ]
  },
  {
   "cell_type": "code",
   "execution_count": 86,
   "metadata": {},
   "outputs": [],
   "source": [
    "def prob_to_label(Y_prob):\n",
    "    result = []\n",
    "    for prob in Y_prob:\n",
    "        if prob >= 0.5:\n",
    "            result.append(True)\n",
    "        else:\n",
    "            result.append(False)\n",
    "    return np.asarray(result)"
   ]
  },
  {
   "cell_type": "code",
   "execution_count": 87,
   "metadata": {},
   "outputs": [
    {
     "name": "stdout",
     "output_type": "stream",
     "text": [
      "             precision    recall  f1-score   support\n",
      "\n",
      "      False       0.92      0.99      0.96     20422\n",
      "       True       0.88      0.39      0.54      2756\n",
      "\n",
      "avg / total       0.92      0.92      0.91     23178\n",
      "\n"
     ]
    }
   ],
   "source": [
    "# y_prob = model.predict(x) \n",
    "# y_classes = y_prob.argmax(axis=-1)\n",
    "# Y_predict \n",
    "\n",
    "for i in range(0, RUNS):\n",
    "    cnn_ = load_model(\"model-%i.h5\" % (i+1))\n",
    "    Y_prob = cnn_.predict(X_test)\n",
    "    Y_predict = prob_to_label(Y_prob)\n",
    "    from sklearn import metrics\n",
    "    print(metrics.classification_report(y_val, Y_predict))"
   ]
  },
  {
   "cell_type": "code",
   "execution_count": 85,
   "metadata": {},
   "outputs": [
    {
     "data": {
      "text/plain": [
       "1230"
      ]
     },
     "execution_count": 85,
     "metadata": {},
     "output_type": "execute_result"
    }
   ],
   "source": [
    "Y_predict = prob_to_label(Y_prob)\n",
    "len([x for x in Y_predict if x])\n"
   ]
  },
  {
   "cell_type": "code",
   "execution_count": 76,
   "metadata": {},
   "outputs": [
    {
     "name": "stdout",
     "output_type": "stream",
     "text": [
      "             precision    recall  f1-score   support\n",
      "\n",
      "      False       0.92      0.99      0.96     20422\n",
      "       True       0.88      0.39      0.54      2756\n",
      "\n",
      "avg / total       0.92      0.92      0.91     23178\n",
      "\n"
     ]
    }
   ],
   "source": [
    "from sklearn import metrics\n",
    "print(metrics.classification_report(y_val, Y_predict))"
   ]
  },
  {
   "cell_type": "code",
   "execution_count": null,
   "metadata": {},
   "outputs": [],
   "source": []
  }
 ],
 "metadata": {
  "anaconda-cloud": {},
  "kernelspec": {
   "display_name": "Python 3",
   "language": "python",
   "name": "python3"
  },
  "language_info": {
   "codemirror_mode": {
    "name": "ipython",
    "version": 3
   },
   "file_extension": ".py",
   "mimetype": "text/x-python",
   "name": "python",
   "nbconvert_exporter": "python",
   "pygments_lexer": "ipython3",
   "version": "3.6.4"
  }
 },
 "nbformat": 4,
 "nbformat_minor": 1
}
